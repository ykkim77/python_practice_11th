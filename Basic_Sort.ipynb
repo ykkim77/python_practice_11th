{
  "cells": [
    {
      "cell_type": "markdown",
      "metadata": {
        "colab_type": "text",
        "id": "view-in-github"
      },
      "source": [
        "<a href=\"https://colab.research.google.com/github/ykkim77/python-13th-week/blob/main/python_13th_week.ipynb\" target=\"_parent\"><img src=\"https://colab.research.google.com/assets/colab-badge.svg\" alt=\"Open In Colab\"/></a>"
      ]
    },
    {
      "cell_type": "markdown",
      "metadata": {
        "id": "_17Zhg4BXgzQ"
      },
      "source": [
        "# 기본 정렬"
      ]
    },
    {
      "cell_type": "markdown",
      "metadata": {
        "id": "Q_jsQatEZHj0"
      },
      "source": [
        "## 선택 정렬 함수 구현"
      ]
    },
    {
      "cell_type": "markdown",
      "metadata": {},
      "source": [
        "![1](./images/1.jpg)\n"
      ]
    },
    {
      "cell_type": "markdown",
      "metadata": {},
      "source": [
        "![2](./images/2.jpg)\n"
      ]
    },
    {
      "cell_type": "markdown",
      "metadata": {},
      "source": [
        "![3](./images/3.jpg)"
      ]
    },
    {
      "cell_type": "markdown",
      "metadata": {},
      "source": [
        "![4](./images/4.jpg)"
      ]
    },
    {
      "cell_type": "code",
      "execution_count": 1,
      "metadata": {},
      "outputs": [],
      "source": [
        "def selectionSort(array, size):\n",
        "   \n",
        "    for step in range(size):\n",
        "        min_idx = step   # iteration을 돌 때마다 최솟값으로 가정하는 인덱스\n",
        "\n",
        "        for i in range(step + 1, size):\n",
        "         \n",
        "            if array[i] < array[min_idx]: # 매 iteration 마다 최솟값을 찾음\n",
        "\n",
        "                min_idx = i\n",
        "         \n",
        "        (array[step], array[min_idx]) = (array[min_idx], array[step])  # 최솟값을 해당 자리에 교체"
      ]
    },
    {
      "cell_type": "markdown",
      "metadata": {},
      "source": [
        "- 선택정렬 함수를 이용한 정렬"
      ]
    },
    {
      "cell_type": "code",
      "execution_count": 11,
      "metadata": {},
      "outputs": [
        {
          "name": "stdout",
          "output_type": "stream",
          "text": [
            "선택 정렬 적용후 데이터\n",
            "[2, 10, 12, 15, 20]\n"
          ]
        }
      ],
      "source": [
        "data = [20, 12, 10, 15, 2]\n",
        "size = len(data)\n",
        "selectionSort(data, size)\n",
        "print('선택 정렬 적용후 데이터')\n",
        "print(data)"
      ]
    },
    {
      "cell_type": "markdown",
      "metadata": {},
      "source": [
        "## 삽입 정렬 함수 구현"
      ]
    },
    {
      "cell_type": "markdown",
      "metadata": {},
      "source": [
        "![2-1](./images/2-1.jpg)"
      ]
    },
    {
      "cell_type": "markdown",
      "metadata": {},
      "source": [
        "![2-2](./images/2-2.jpg)"
      ]
    },
    {
      "cell_type": "markdown",
      "metadata": {},
      "source": [
        "![2-3](./images/2-3.jpg)"
      ]
    },
    {
      "cell_type": "markdown",
      "metadata": {},
      "source": [
        "![2-4](./images/2-4.jpg)"
      ]
    },
    {
      "cell_type": "code",
      "execution_count": 14,
      "metadata": {},
      "outputs": [],
      "source": [
        "def insertionSort(array):\n",
        "\n",
        "    for step in range(1, len(array)):\n",
        "        key = array[step]  # 키 값 설정\n",
        "        j = step - 1\n",
        "        \n",
        "      \n",
        "        while j >= 0 and key < array[j]:   # 이미 정렬된 왼쪽 부분과 key를 비교\n",
        "\n",
        "            array[j + 1] = array[j]\n",
        "            j = j - 1\n",
        "\n",
        "        \n",
        "\n",
        "        array[j + 1] = key    # 키 값을 이미 정렬된 왼쪽 부분의 적절한 위치로 이동"
      ]
    },
    {
      "cell_type": "markdown",
      "metadata": {},
      "source": [
        "- 삽입 정렬 함수를 이용한 정렬"
      ]
    },
    {
      "cell_type": "code",
      "execution_count": 15,
      "metadata": {},
      "outputs": [
        {
          "name": "stdout",
          "output_type": "stream",
          "text": [
            "삽입 정렬 적용 후 데이터\n",
            "[1, 3, 4, 5, 9]\n"
          ]
        }
      ],
      "source": [
        "data = [9, 5, 1, 4, 3]\n",
        "insertionSort(data)\n",
        "print('삽입 정렬 적용 후 데이터')\n",
        "print(data)"
      ]
    }
  ],
  "metadata": {
    "colab": {
      "authorship_tag": "ABX9TyNfYEYHL4wCNbBmxfR+rFfd",
      "collapsed_sections": [],
      "include_colab_link": true,
      "name": "python-13th-week.ipynb",
      "provenance": []
    },
    "kernelspec": {
      "display_name": "Python 3",
      "name": "python3"
    },
    "language_info": {
      "codemirror_mode": {
        "name": "ipython",
        "version": 3
      },
      "file_extension": ".py",
      "mimetype": "text/x-python",
      "name": "python",
      "nbconvert_exporter": "python",
      "pygments_lexer": "ipython3",
      "version": "3.9.4"
    }
  },
  "nbformat": 4,
  "nbformat_minor": 0
}
